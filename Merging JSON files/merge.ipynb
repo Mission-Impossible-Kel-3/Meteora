{
 "nbformat": 4,
 "nbformat_minor": 2,
 "metadata": {
  "language_info": {
   "name": "python",
   "codemirror_mode": {
    "name": "ipython",
    "version": 3
   },
   "version": "3.6.9-final"
  },
  "orig_nbformat": 2,
  "file_extension": ".py",
  "mimetype": "text/x-python",
  "name": "python",
  "npconvert_exporter": "python",
  "pygments_lexer": "ipython3",
  "version": 3,
  "kernelspec": {
   "name": "python36964bitscrapingvenvaf1adab617724199ac0e7512b143691e",
   "display_name": "Python 3.6.9 64-bit ('scraping': venv)"
  }
 },
 "cells": [
  {
   "cell_type": "code",
   "execution_count": 1,
   "metadata": {},
   "outputs": [],
   "source": [
    "from selenium import webdriver"
   ]
  },
  {
   "cell_type": "code",
   "execution_count": 2,
   "metadata": {},
   "outputs": [],
   "source": [
    "import json\n",
    "import time"
   ]
  },
  {
   "cell_type": "code",
   "execution_count": 14,
   "metadata": {},
   "outputs": [],
   "source": [
    "driver = webdriver.Chrome()\n",
    "driver.maximize_window()"
   ]
  },
  {
   "cell_type": "code",
   "execution_count": 21,
   "metadata": {},
   "outputs": [],
   "source": [
    "regionalSongData = []"
   ]
  },
  {
   "cell_type": "code",
   "execution_count": 22,
   "metadata": {},
   "outputs": [
    {
     "name": "stdout",
     "output_type": "stream",
     "text": "Manuk DadaliLagu Daerah Jawa Barat Indonesia\nMarion Jola menyanyikan lagu daerah Kupang dengan merdu 7 INDONESIAN IDOL 2018\nMASHUP LAGU DAERAH INDONESIA\nMedley Lagu Daerah Indonesia Piano Cover By Arya Marcell\nMedley Metal Lagu Daerah Indonesia Pulau Sumatera\nnot pianika bubuy bulan - lagu daerah nusantara tradisional indonesia - not angka\nnot pianika gundul gundul pacul - lagu daerah nusantara tradisional indonesia - not angka\nnot pianika manuk dadali - lagu daerah nusantara tradisional indonesia - tutorial pianika not an\nONDEL ONDEL Lagu Daerah DKI Jakarta - Betawi Budaya Indonesia Dongeng Kita\nPadang Wulan versi Akustik + arti Lagu Daerah Jawa Tengah Indonesia Cover by FaelEspada\nPadang WulanLagu Daerah Jawa Tengah Indonesia\nApuse Lagu Daerah Papua Indonesia\nRambadia Lagu Daerah Sumatera Utara Indonesia\nAPUSELagu Daerah PapuaBudaya IndonesiaDongeng Kita\nRasa SAYANGE Lagu Daerah Maluku Budaya Indonesia\nREK AYO REKLagu Daerah Jawa TimurBudaya IndonesiaDongeng Kita\nSuwe Ora JamuLagu Daerah Jawa Tengah Indonesia (Dengan Lirik Karaoke)\nAPUSELagu Daerah PapuaDiva bernyanyiDiva The Series Official\nTEN2FIVE AYAM DEN LAPEH LAGU DAERAH SUMATERA BARAT HQ AUDIO\nTEN2FIVETOKECANGLAGU DAERAHJAWA BARATHQ AUDIO\nTOKECANG Lagu Daerah Jawa barat Budaya Indonesia Dongeng Kita\nTokecang Lagu Daerah Jawa Barat Indonesia (Dengan Lirik Karaoke)\nTravisAria mashup lagu daerah INDONESIA, Gundul2 Pacul, Cublak2 Sueng\nVIDEO Begini Gerakan Tarian Indonesia Menari yang Menggabungkan 6 Lagu Daerah\nWaktu Hujan Sore-Sore Lagu Daerah Maluku Indonesia\n[Midi Karaoke] Lagu Daerah - Cublak-Cublak Suweng +Lirik Lagu [High Quality Sound]\n[Midi Karaoke] Suwe Ora Jamu Lagu Daerah Yogyakarta +Lirik Lagu\n( Doremi & You )Lagu-lagu daerah\nBelajar Lagu Daerah Indonesia Kawanku27 SDN Leuwikidang (1)\nBelajar Lagu Daerah Indonesia Kawanku27 SDN Leuwikidang\nBurung Tantina Lagu Daerah Maluku Indonesia (Dengan Lirik Karaoke)\nCublak Cublak Suweng Lagu Daerah Jawa Tengah Diva bernyanyi Diva The Series Official\nCublak Cublak SuwengLagu Daerah Jawa TengahBudaya IndonesiaDongeng Kita\nGELANG SIPAKU GELANG ( Lagu Daerah Sumatera Barat ). Lagu Anak Indonesia.\nAcapella Medley Lagu Daerah Indonesia , cover oleh Alfiromi (1)\nGerak Tari Lagu Daerah Indonesia Rasa Sayange\nGoro Gorone Lagu Daerah Maluku Indonesia (Dengan Lirik Karaoke)\nGundul Gundul Pacul Lagu Daerah Jawa Tengah Indonesia Drum Gundul Gundul Pacul\nGundul Gundul PaculLagu Daerah Jawa Tengah Indonesia\nIndung Indung Lagu Daerah Kalimantan Timur Lagu Anak Indonesia Terpopuler\nInjit Injit Semut Lagu Daerah Jambi Indonesia\nKampuang Nan Jauah Di Mato Lagu Daerah Sumatera Barat Budaya Indonesia Dongeng Kita\nKaraoke Anak. lir ilir. Koplo. ( Lagu Daerah Jawa Tengah ). Tanpa Vokal.\nKicir Kicir Lagu Daerah Betawi Jakarta Indonesia (Dengan Lirik Karaoke)\nKicir Kicir Lagu Daerah Betawi Jakarta Indonesia Dengan Lirik Karaoke\nLagu Anak RASA SAYANGE - Lagu Daerah Indonesia TERBARU\nLagu Daerah Gundul-Gundul Pacul ( Acapella Instrument )\nLagu Daerah Indonesia Sumatera Utara - Rambadia Wisata Alam Sumatera Utara\nAmpar Ampar Pisang Lagu Daerah Kalimantan Selatan Indonesia\nLagu daerah lucu tentang duitsusah cari duit #lagu daerah #daerah Indonesian\nAmpar Ampar PisangLagu Daerah Kalimantan SelatanBudaya IndonesiaDongeng Kita\nLagu Daerah Provinsi Riau Soleram Lirik Ada di kolom deskripsi\nAmpar Ampar PisangLagu Daerah Kalimantan SelatanDiva bernyanyiDiva The Series Official\nManasaiLagu Daerah Kalimantan Tengah Indonesia\n"
    }
   ],
   "source": [
    "with open(\"JSON files/labelingResult.json\", \"r\") as labeling:\n",
    "    labelingData = json.load(labeling)\n",
    "    for data in labelingData:\n",
    "        if len(data[\"completions\"][0][\"result\"]) != 0:\n",
    "            with open(\"JSON files/scrapingResult2.json\", \"r\") as scraping:\n",
    "                scrapingData = json.load(scraping)\n",
    "                found = False\n",
    "                for data2 in scrapingData:\n",
    "                    if data[\"task_path\"][44:-4] == data2[\"title\"]:\n",
    "                        driver.get(data2[\"url\"])\n",
    "                        driver.implicitly_wait(10)\n",
    "\n",
    "                        regionalSongData.append(\n",
    "                            {\n",
    "                                \"video\" : \n",
    "                                {\n",
    "                                    \"title\" : data[\"task_path\"][44:-4],\n",
    "                                    \"url\" : data2[\"url\"]\n",
    "                                },\n",
    "                                \"channel\" :\n",
    "                                {\n",
    "                                    \"name\" : driver.find_element_by_xpath(\"//*[@id='text']/a\").text,\n",
    "                                    \"url\" : driver.find_element_by_xpath(\"//*[@id='text']/a\").get_attribute(\"href\")\n",
    "                                },\n",
    "                                \"regions\" : data[\"completions\"][0][\"result\"][0][\"value\"][\"choices\"],\n",
    "                                \"annotationDate\": \"01-05-2020\"\n",
    "                            }\n",
    "                        )\n",
    "                        found = True\n",
    "                        break\n",
    "\n",
    "                if not found:\n",
    "                    title = data[\"task_path\"][44:-4]\n",
    "                    driver.get(\"https://www.youtube.com/results?search_query=\" + title.replace(\" \", \"+\"))\n",
    "                    driver.implicitly_wait(10)\n",
    "\n",
    "                    regionalSongData.append(\n",
    "                            {\n",
    "                                \"video\" : \n",
    "                                {\n",
    "                                    \"title\" : driver.find_element_by_xpath(\"//*[@id='video-title']\").text,\n",
    "                                    \"url\" : driver.find_element_by_xpath(\"//*[@id='video-title']\").get_attribute(\"href\")\n",
    "                                },\n",
    "                                \"channel\" :\n",
    "                                {\n",
    "                                    \"name\" : driver.find_element_by_xpath(\"//*[@id='text']/a\").text,\n",
    "                                    \"url\" : driver.find_element_by_xpath(\"//*[@id='text']/a\").get_attribute(\"href\")\n",
    "                                },\n",
    "                                \"regions\" : data[\"completions\"][0][\"result\"][0][\"value\"][\"choices\"],\n",
    "                                \"annotationDate\": \"01-05-2020\"\n",
    "                            }\n",
    "                        )"
   ]
  },
  {
   "cell_type": "code",
   "execution_count": 4,
   "metadata": {},
   "outputs": [],
   "source": [
    "result = { \"data\" : regionalSongData }"
   ]
  },
  {
   "cell_type": "code",
   "execution_count": 9,
   "metadata": {},
   "outputs": [],
   "source": [
    "with open(\"JSON files/regionalSongData.json\", \"w\") as mergeResult:\n",
    "    json.dump(result, mergeResult)"
   ]
  },
  {
   "cell_type": "code",
   "execution_count": 104,
   "metadata": {},
   "outputs": [],
   "source": [
    "driver.quit()"
   ]
  },
  {
   "cell_type": "code",
   "execution_count": null,
   "metadata": {},
   "outputs": [],
   "source": []
  }
 ]
}