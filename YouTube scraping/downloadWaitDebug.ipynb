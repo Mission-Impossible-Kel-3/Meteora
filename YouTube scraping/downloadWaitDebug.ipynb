{
 "cells": [
  {
   "cell_type": "code",
   "execution_count": 4,
   "metadata": {},
   "outputs": [],
   "source": [
    "from selenium import webdriver\n",
    "from selenium.common.exceptions import TimeoutException\n",
    "from selenium.webdriver.common.by import By\n",
    "from selenium.webdriver.support.wait import WebDriverWait\n",
    "from webdriver_manager.chrome import ChromeDriverManager\n",
    "from selenium.webdriver.support import expected_conditions as EC"
   ]
  },
  {
   "cell_type": "code",
   "execution_count": 5,
   "metadata": {},
   "outputs": [],
   "source": [
    "import time\n",
    "import json"
   ]
  },
  {
   "cell_type": "code",
   "execution_count": 6,
   "metadata": {},
   "outputs": [],
   "source": [
    "def every_downloads_chrome(driver):\n",
    "    if not driver.current_url.startswith(\"chrome://downloads\"):\n",
    "        driver.get(\"chrome://downloads/\")\n",
    "        \n",
    "    return driver.execute_script(\"\"\"\n",
    "        var items = downloads.Manager.get().items_;\n",
    "        if (items.every(e => e.state === \"COMPLETE\"))\n",
    "            return items.map(e => e.fileUrl);\n",
    "        \"\"\")"
   ]
  },
  {
   "cell_type": "code",
   "execution_count": 7,
   "metadata": {},
   "outputs": [],
   "source": [
    "chrome_options = webdriver.ChromeOptions()\n",
    "preference = {'download.default_directory': '/lagu', \"safebrowsing.enabled\": \"false\"}\n",
    "chrome_options.add_experimental_option('prefs', preference)"
   ]
  },
  {
   "cell_type": "code",
   "execution_count": 12,
   "metadata": {},
   "outputs": [
    {
     "name": "stderr",
     "output_type": "stream",
     "text": "/home/reyrizki/.local/lib/python3.6/site-packages/ipykernel_launcher.py:1: DeprecationWarning: use options instead of chrome_options\n  \"\"\"Entry point for launching an IPython kernel.\n"
    }
   ],
   "source": [
    "driver = webdriver.Chrome(chrome_options = chrome_options)\n",
    "driver.maximize_window()"
   ]
  },
  {
   "cell_type": "code",
   "execution_count": 13,
   "metadata": {},
   "outputs": [],
   "source": [
    "with open(\"source.json\", \"r\") as source:\n",
    "    videos = json.load(source);\n",
    "\n",
    "    for video in videos:\n",
    "        try:\n",
    "            driver.get(\"https://ytmp3.cc/en13/\")\n",
    "            WebDriverWait(driver, 5).until(EC.presence_of_element_located((By.ID, \"input\")))\n",
    "            driver.find_element_by_id(\"input\").send_keys(video['url'])\n",
    "            driver.find_element_by_id(\"submit\").click()\n",
    "            \n",
    "        except TimeoutException:\n",
    "            driver.refresh()\n",
    "\n",
    "        try:\n",
    "            downloadButton = \"//*[@id='buttons']/a[1]\"\n",
    "            time.sleep(30)\n",
    "            driver.find_element_by_xpath(downloadButton).click()\n",
    "        except TimeoutException:\n",
    "            driver.refresh()\n",
    "\n",
    "        while (len(driver.window_handles) > 1):\n",
    "            driver.switch_to.window(driver.window_handles[1])\n",
    "            driver.close()\n",
    "        \n",
    "        driver.switch_to.window(driver.window_handles[0])"
   ]
  },
  {
   "cell_type": "code",
   "execution_count": null,
   "metadata": {},
   "outputs": [],
   "source": [
    "driver.quit()"
   ]
  },
  {
   "cell_type": "code",
   "execution_count": null,
   "metadata": {},
   "outputs": [],
   "source": [
    "label-studio init --input-path=audios --input-format=audio-dir --label-config=config.xml audio_labeling"
   ]
  }
 ],
 "metadata": {
  "file_extension": ".py",
  "kernelspec": {
   "display_name": "Python 3",
   "language": "python",
   "name": "python3"
  },
  "language_info": {
   "codemirror_mode": {
    "name": "ipython",
    "version": 3
   },
   "file_extension": ".py",
   "mimetype": "text/x-python",
   "name": "python",
   "nbconvert_exporter": "python",
   "pygments_lexer": "ipython3",
   "version": "3.6.9-final"
  },
  "mimetype": "text/x-python",
  "name": "python",
  "npconvert_exporter": "python",
  "pygments_lexer": "ipython3",
  "version": 3
 },
 "nbformat": 4,
 "nbformat_minor": 4
}