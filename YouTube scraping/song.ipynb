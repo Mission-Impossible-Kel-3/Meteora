{
 "cells": [
  {
   "cell_type": "code",
   "execution_count": 1
   "metadata": {},
   "outputs": [],
   "source": [
    "from selenium import webdriver\n",
    "import time\n",
    "import json"
   ]
  },
  {
   "cell_type": "code",
   "execution_count": 3,
   "metadata": {},
   "outputs": [],
   "source": [
    "driver = webdriver.Chrome()\n",
    "driver.maximize_window()"
   ]
  },
  {
   "cell_type": "code",
   "execution_count": 4,
   "metadata": {},
   "outputs": [],
   "source": [
    "url = \"https://www.youtube.com/results?search_query=lagu+daerah+indonesia&sp=EgIYAQ%253D%253D\""
   ]
  },
  {
   "cell_type": "code",
   "execution_count": 5,
   "metadata": {},
   "outputs": [
    {
     "name": "stdout",
     "output_type": "stream",
     "text": [
      "https://www.youtube.com/results?search_query=lagu+daerah+indonesia&sp=EgIYAQ%253D%253D\n"
     ]
    }
   ],
   "source": [
    "driver.get(url)\n",
    "print(driver.current_url)\n",
    "driver.implicitly_wait(30)"
   ]
  },
  {
   "cell_type": "code",
   "execution_count": 6,
   "metadata": {},
   "outputs": [],
   "source": [
    "results = driver.find_elements_by_class_name(\"style-scope ytd-video-renderer\")"
   ]
  },
  {
   "cell_type": "code",
   "execution_count": 7,
   "metadata": {},
   "outputs": [
    {
     "data": {
      "text/plain": [
       "20"
      ]
     },
     "execution_count": 7,
     "metadata": {},
     "output_type": "execute_result"
    }
   ],
   "source": [
    "len(results)"
   ]
  },
  {
   "cell_type": "code",
   "execution_count": 8,
   "metadata": {},
   "outputs": [],
   "source": [
    "videos = []"
   ]
  },
  {
   "cell_type": "code",
   "execution_count": 9,
   "metadata": {},
   "outputs": [],
   "source": [
    "for video in results:\n",
    "    videos.append({\n",
    "        'title': video.find_element_by_xpath(\"div[@id='dismissable']/div[@class='text-wrapper style-scope ytd-video-renderer']/div[@id='meta']/div[@id='title-wrapper']/h3[@class='title-and-badge style-scope ytd-video-renderer']/a[@id='video-title']/yt-formatted-string[@class='style-scope ytd-video-renderer']\").text,\n",
    "        'url': video.find_element_by_id(\"video-title\").get_attribute('href')\n",
    "    })"
   ]
  },
  {
   "cell_type": "code",
   "execution_count": 10,
   "metadata": {},
   "outputs": [
    {
     "data": {
      "text/plain": [
       "[{'title': 'Manuk Dadali - Lagu Daerah Jawa Barat (Karaoke, Lirik dan Terjemahan)',\n",
       "  'url': 'https://www.youtube.com/watch?v=LcghTxm-Qno'},\n",
       " {'title': 'Ampar Ampar Pisang | Lagu Daerah Kalimantan Selatan | Budaya Indonesia | Dongeng Kita',\n",
       "  'url': 'https://www.youtube.com/watch?v=BnBTFaHvI6I'},\n",
       " {'title': 'APUSE | Lagu Daerah Papua | Budaya Indonesia | Dongeng Kita',\n",
       "  'url': 'https://www.youtube.com/watch?v=VlyDN-yQMuk'},\n",
       " {'title': 'Kampuang Nan Jauh Dimato - Lagu Daerah Sumatera Barat (Karoke, Lirik dan Terjemahan)',\n",
       "  'url': 'https://www.youtube.com/watch?v=aZ5PYjC61Zk'},\n",
       " {'title': 'Kicir Kicir | Lagu Daerah Betawi Jakarta Indonesia (Dengan Lirik Karaoke)',\n",
       "  'url': 'https://www.youtube.com/watch?v=dSixETgnQuA'},\n",
       " {'title': 'Cublak Cublak Suweng | Lagu Daerah Jawa Tengah | Budaya Indonesia | Dongeng Kita',\n",
       "  'url': 'https://www.youtube.com/watch?v=Qmu4ygwS2SI'},\n",
       " {'title': 'Cik Cik Periuk - Lagu Daerah Kalimantan Barat (Karaoke, Lirik dan Terjemahan)',\n",
       "  'url': 'https://www.youtube.com/watch?v=SEHi-11mdR8'},\n",
       " {'title': 'Ampar Ampar Pisang | Lagu Daerah Kalimantan Selatan | Diva bernyanyi | Diva The Series Official',\n",
       "  'url': 'https://www.youtube.com/watch?v=gtCS-eJF3kM'},\n",
       " {'title': 'APUSE | Lagu Daerah Papua | Diva bernyanyi | Diva The Series Official',\n",
       "  'url': 'https://www.youtube.com/watch?v=J_TPrhwM7DI'},\n",
       " {'title': '( Doremi & You ) Lagu-lagu daerah',\n",
       "  'url': 'https://www.youtube.com/watch?v=Yyu26I3qW5U'},\n",
       " {'title': 'Apuse | Lagu Daerah Papua Indonesia',\n",
       "  'url': 'https://www.youtube.com/watch?v=g5ik2MxVo-Y'},\n",
       " {'title': 'TOKECANG | Lagu Daerah Jawa barat | Budaya Indonesia | Dongeng Kita',\n",
       "  'url': 'https://www.youtube.com/watch?v=atFo0JEblzo'},\n",
       " {'title': 'Lagu Suwe Ora Jamu - Animasi Cerita Indonesia (ACI)',\n",
       "  'url': 'https://www.youtube.com/watch?v=_cR8grqP3c8'},\n",
       " {'title': 'Jali Jali - Lagu Daerah Jakarta (Karaoke dengan Lirik)',\n",
       "  'url': 'https://www.youtube.com/watch?v=qkfs46zsmzs'},\n",
       " {'title': 'Tokecang - Lagu Daerah Jawa Barat (Karaoke dengan Lirik)',\n",
       "  'url': 'https://www.youtube.com/watch?v=UOMLy6a3vmQ'},\n",
       " {'title': 'Kampuang Nan Jauah Di Mato | Lagu Daerah Sumatera Barat | Budaya Indonesia | Dongeng Kita',\n",
       "  'url': 'https://www.youtube.com/watch?v=eCdjlFwZV0g'},\n",
       " {'title': 'EPIC COLLAB! Lagu DI RUMAH AJA Dalam 42 Bahasa Daerah',\n",
       "  'url': 'https://www.youtube.com/watch?v=p2Ijw4euF40'},\n",
       " {'title': 'REK AYO REK | Lagu Daerah Jawa Timur | Budaya Indonesia | Dongeng Kita',\n",
       "  'url': 'https://www.youtube.com/watch?v=QOgxHhsY37E'},\n",
       " {'title': 'Gemu Fa Mi Re - Lagu Daerah NTT (Karaoke dengan Lirik)',\n",
       "  'url': 'https://www.youtube.com/watch?v=a47hr2jo6Fo'},\n",
       " {'title': 'Prau Layar - Lagu Daerah Jawa Tengah (Karoke, Lirik dan Terjemahan)',\n",
       "  'url': 'https://www.youtube.com/watch?v=J2p9Vytbm1Q'}]"
      ]
     },
     "execution_count": 10,
     "metadata": {},
     "output_type": "execute_result"
    }
   ],
   "source": [
    "videos"
   ]
  },
  {
   "cell_type": "code",
   "execution_count": 52,
   "metadata": {},
   "outputs": [],
   "source": [
    "with open(\"source.json\", \"w\") as source:\n",
    "    json.dump(videos, source)"
   ]
  },
  {
   "cell_type": "code",
   "execution_count": 11,
   "metadata": {},
   "outputs": [],
   "source": [
    "driver.quit()"
   ]
  },
  {
   "cell_type": "code",
   "execution_count": 13,
   "metadata": {},
   "outputs": [],
   "source": [
    "driver = webdriver.Chrome()\n",
    "driver.maximize_window()"
   ]
  },
  {
   "cell_type": "code",
   "execution_count": 14,
   "metadata": {},
   "outputs": [],
   "source": [
    "url = \"https://www.youtube.com/results?search_query=lagu+daerah+indonesia&sp=EgIYAQ%253D%253D\""
   ]
  },
  {
   "cell_type": "code",
   "execution_count": 15,
   "metadata": {},
   "outputs": [
    {
     "name": "stdout",
     "output_type": "stream",
     "text": [
      "https://www.youtube.com/results?search_query=lagu+daerah+indonesia&sp=EgIYAQ%253D%253D\n"
     ]
    }
   ],
   "source": [
    "driver.get(url)\n",
    "print(driver.current_url)\n",
    "driver.implicitly_wait(30)"
   ]
  },
  {
   "cell_type": "code",
   "execution_count": 16,
   "metadata": {},
   "outputs": [],
   "source": [
    "for i in range(1, 5):\n",
    "    driver.execute_script('window.scrollTo(0, document.body.scrollHeight);')\n",
    "    # beri waktu jeda untuk load item anime\n",
    "    # perhatikan perubahan di google chrome, halaman akan scroll down otomatis\n",
    "    time.sleep(20)"
   ]
  },
  {
   "cell_type": "code",
   "execution_count": 17,
   "metadata": {},
   "outputs": [],
   "source": [
    "results = driver.find_elements_by_class_name(\"style-scope ytd-video-renderer\")"
   ]
  },
  {
   "cell_type": "code",
   "execution_count": 18,
   "metadata": {},
   "outputs": [
    {
     "data": {
      "text/plain": [
       "376"
      ]
     },
     "execution_count": 18,
     "metadata": {},
     "output_type": "execute_result"
    }
   ],
   "source": [
    "len(results)"
   ]
  },
  {
   "cell_type": "code",
   "execution_count": null,
   "metadata": {},
   "outputs": [],
   "source": [
    "videos = []"
   ]
  },
  {
   "cell_type": "code",
   "execution_count": null,
   "metadata": {},
   "outputs": [],
   "source": [
    "for video in results:\n",
    "    videos.append({\n",
    "        'title': video.find_element_by_xpath(\"div[@id='dismissable']/div[@class='text-wrapper style-scope ytd-video-renderer']/div[@id='meta']/div[@id='title-wrapper']/h3[@class='title-and-badge style-scope ytd-video-renderer']/a[@id='video-title']/yt-formatted-string[@class='style-scope ytd-video-renderer']\").text,\n",
    "        'url': video.find_element_by_id(\"video-title\").get_attribute('href')\n",
    "    })"
   ]
  },
  {
   "cell_type": "code",
   "execution_count": null,
   "metadata": {},
   "outputs": [],
   "source": [
    "videos"
   ]
  },
  {
   "cell_type": "code",
   "execution_count": null,
   "metadata": {},
   "outputs": [],
   "source": [
    "with open(\"Hasil.json\", \"w\") as source:\n",
    "    json.dump(videos, source)"
   ]
  },
  {
   "cell_type": "code",
   "execution_count": null,
   "metadata": {},
   "outputs": [],
   "source": [
    "driver.quit()"
   ]
  },
  {
   "cell_type": "code",
   "execution_count": null,
   "metadata": {},
   "outputs": [],
   "source": [
    "label-studio init --input-path=my/audios/dir --input-format=audio-dir --label-config=config.xml"
   ]
  }
 ],
 "metadata": {
  "file_extension": ".py",
  "kernelspec": {
   "display_name": "Python 3",
   "language": "python",
   "name": "python3"
  },
  "language_info": {
   "codemirror_mode": {
    "name": "ipython",
    "version": 3
   },
   "file_extension": ".py",
   "mimetype": "text/x-python",
   "name": "python",
   "nbconvert_exporter": "python",
   "pygments_lexer": "ipython3",
   "version": "3.8.2"
  },
  "mimetype": "text/x-python",
  "name": "python",
  "npconvert_exporter": "python",
  "pygments_lexer": "ipython3",
  "version": 3
 },
 "nbformat": 4,
 "nbformat_minor": 4
}
