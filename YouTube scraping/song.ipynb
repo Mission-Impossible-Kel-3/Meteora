{
 "nbformat": 4,
 "nbformat_minor": 2,
 "metadata": {
  "language_info": {
   "name": "python",
   "codemirror_mode": {
    "name": "ipython",
    "version": 3
   },
   "version": "3.6.9-final"
  },
  "orig_nbformat": 2,
  "file_extension": ".py",
  "mimetype": "text/x-python",
  "name": "python",
  "npconvert_exporter": "python",
  "pygments_lexer": "ipython3",
  "version": 3,
  "kernelspec": {
   "name": "python3",
   "display_name": "Python 3"
  }
 },
 "cells": [
  {
   "cell_type": "code",
   "execution_count": 1,
   "metadata": {},
   "outputs": [],
   "source": [
    "from selenium import webdriver\n",
    "import time\n",
    "import json"
   ]
  },
  {
   "cell_type": "code",
   "execution_count": 40,
   "metadata": {},
   "outputs": [],
   "source": [
    "driver = webdriver.Chrome()\n",
    "driver.maximize_window()"
   ]
  },
  {
   "cell_type": "code",
   "execution_count": 41,
   "metadata": {},
   "outputs": [],
   "source": [
    "url = \"https://www.youtube.com/results?search_query=lagu+daerah+indonesia&sp=EgIYAQ%253D%253D\""
   ]
  },
  {
   "cell_type": "code",
   "execution_count": 42,
   "metadata": {},
   "outputs": [
    {
     "name": "stdout",
     "output_type": "stream",
     "text": "https://www.youtube.com/results?search_query=lagu+daerah+indonesia&sp=EgIYAQ%253D%253D\n"
    }
   ],
   "source": [
    "driver.get(url)\n",
    "print(driver.current_url)\n",
    "driver.implicitly_wait(30)"
   ]
  },
  {
   "cell_type": "code",
   "execution_count": 43,
   "metadata": {},
   "outputs": [],
   "source": [
    "results = driver.find_elements_by_class_name(\"style-scope ytd-video-renderer\")"
   ]
  },
  {
   "cell_type": "code",
   "execution_count": 44,
   "metadata": {},
   "outputs": [
    {
     "data": {
      "text/plain": "17"
     },
     "execution_count": 44,
     "metadata": {},
     "output_type": "execute_result"
    }
   ],
   "source": [
    "len(results)"
   ]
  },
  {
   "cell_type": "code",
   "execution_count": 49,
   "metadata": {},
   "outputs": [],
   "source": [
    "videos = []"
   ]
  },
  {
   "cell_type": "code",
   "execution_count": 50,
   "metadata": {},
   "outputs": [],
   "source": [
    "for video in results:\n",
    "    videos.append({\n",
    "        'title': video.find_element_by_xpath(\"div[@id='dismissable']/div[@class='text-wrapper style-scope ytd-video-renderer']/div[@id='meta']/div[@id='title-wrapper']/h3[@class='title-and-badge style-scope ytd-video-renderer']/a[@id='video-title']/yt-formatted-string[@class='style-scope ytd-video-renderer']\").text,\n",
    "        'url': video.find_element_by_id(\"video-title\").get_attribute('href')\n",
    "    })"
   ]
  },
  {
   "cell_type": "code",
   "execution_count": 51,
   "metadata": {},
   "outputs": [
    {
     "data": {
      "text/plain": "[{'title': 'Manuk Dadali - Lagu Daerah Jawa Barat (Karaoke, Lirik dan Terjemahan)',\n  'url': 'https://www.youtube.com/watch?v=LcghTxm-Qno'},\n {'title': 'APUSE | Lagu Daerah Papua | Budaya Indonesia | Dongeng Kita',\n  'url': 'https://www.youtube.com/watch?v=VlyDN-yQMuk'},\n {'title': 'Ampar Ampar Pisang | Lagu Daerah Kalimantan Selatan | Budaya Indonesia | Dongeng Kita',\n  'url': 'https://www.youtube.com/watch?v=BnBTFaHvI6I'},\n {'title': 'EPIC COLLAB! Lagu DI RUMAH AJA Dalam 42 Bahasa Daerah',\n  'url': 'https://www.youtube.com/watch?v=p2Ijw4euF40'},\n {'title': 'Kampuang Nan Jauh Dimato - Lagu Daerah Sumatera Barat (Karoke, Lirik dan Terjemahan)',\n  'url': 'https://www.youtube.com/watch?v=aZ5PYjC61Zk'},\n {'title': 'Cublak Cublak Suweng | Lagu Daerah Jawa Tengah | Budaya Indonesia | Dongeng Kita',\n  'url': 'https://www.youtube.com/watch?v=Qmu4ygwS2SI'},\n {'title': 'ONDEL ONDEL | Lagu Daerah DKI Jakarta - Betawi | Budaya Indonesia | Dongeng Kita',\n  'url': 'https://www.youtube.com/watch?v=wardyOl-EHo'},\n {'title': 'Rek Ayo Rek - Lagu Daerah Jawa Timur (Karaoke, Lirik dan Terjemahan)',\n  'url': 'https://www.youtube.com/watch?v=gk0kk1Ly-m0'},\n {'title': 'Kampuang Nan Jauah Di Mato | Lagu Daerah Sumatera Barat | Budaya Indonesia | Dongeng Kita',\n  'url': 'https://www.youtube.com/watch?v=eCdjlFwZV0g'},\n {'title': 'Kicir Kicir | Lagu Daerah Betawi Jakarta Indonesia (Dengan Lirik Karaoke)',\n  'url': 'https://www.youtube.com/watch?v=dSixETgnQuA'},\n {'title': 'TOKECANG | Lagu Daerah Jawa barat | Budaya Indonesia | Dongeng Kita',\n  'url': 'https://www.youtube.com/watch?v=atFo0JEblzo'},\n {'title': 'Apuse | Lagu Daerah Papua Indonesia',\n  'url': 'https://www.youtube.com/watch?v=g5ik2MxVo-Y'},\n {'title': 'Jali Jali - Lagu Daerah Jakarta (Karaoke dengan Lirik)',\n  'url': 'https://www.youtube.com/watch?v=qkfs46zsmzs'},\n {'title': 'Yok Miak - Lagu Daerah Bangka Belitung (Karaoke dengan Lirik)',\n  'url': 'https://www.youtube.com/watch?v=h7DgSo9LiGA'},\n {'title': 'TEN2FIVE • SIPATOKAAN | LAGU DAERAH • SULAWESI UTARA | HQ AUDIO',\n  'url': 'https://www.youtube.com/watch?v=y2XqiCeYOBs'},\n {'title': 'Lagu Jali-Jali - Animasi Cerita Indonesia (ACI)',\n  'url': 'https://www.youtube.com/watch?v=qVTUEBODhZ0'},\n {'title': '( Doremi & You ) Lagu-lagu daerah',\n  'url': 'https://www.youtube.com/watch?v=Yyu26I3qW5U'}]"
     },
     "execution_count": 51,
     "metadata": {},
     "output_type": "execute_result"
    }
   ],
   "source": [
    "videos"
   ]
  },
  {
   "cell_type": "code",
   "execution_count": 52,
   "metadata": {},
   "outputs": [],
   "source": [
    "with open(\"source.json\", \"w\") as source:\n",
    "    json.dump(videos, source)"
   ]
  },
  {
   "cell_type": "code",
   "execution_count": 53,
   "metadata": {},
   "outputs": [],
   "source": [
    "driver.quit()"
   ]
  },
  {
   "cell_type": "code",
   "execution_count": null,
   "metadata": {},
   "outputs": [],
   "source": [
    "label-studio init --input-path=my/audios/dir --input-format=audio-dir --label-config=config.xml"
   ]
  }
 ]
}