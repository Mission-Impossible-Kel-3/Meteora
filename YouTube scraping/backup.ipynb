{
 "nbformat": 4,
 "nbformat_minor": 2,
 "metadata": {
  "language_info": {
   "name": "python",
   "codemirror_mode": {
    "name": "ipython",
    "version": 3
   },
   "version": "3.6.9-final"
  },
  "orig_nbformat": 2,
  "file_extension": ".py",
  "mimetype": "text/x-python",
  "name": "python",
  "npconvert_exporter": "python",
  "pygments_lexer": "ipython3",
  "version": 3,
  "kernelspec": {
   "name": "python3",
   "display_name": "Python 3"
  }
 },
 "cells": [
  {
   "cell_type": "code",
   "execution_count": 14,
   "metadata": {},
   "outputs": [],
   "source": [
    "from selenium import webdriver\n",
    "import time\n",
    "import json"
   ]
  },
  {
   "cell_type": "code",
   "execution_count": 15,
   "metadata": {},
   "outputs": [],
   "source": [
    "driver = webdriver.Chrome()\n",
    "driver.maximize_window()"
   ]
  },
  {
   "cell_type": "code",
   "execution_count": 16,
   "metadata": {},
   "outputs": [],
   "source": [
    "url = \"https://ytmp3.cc/en13/\""
   ]
  },
  {
   "cell_type": "code",
   "execution_count": 17,
   "metadata": {},
   "outputs": [
    {
     "name": "stdout",
     "output_type": "stream",
     "text": "https://ytmp3.cc/en13/\n"
    }
   ],
   "source": [
    "driver.get(url)\n",
    "print(driver.current_url)\n",
    "driver.implicitly_wait(30)"
   ]
  },
  {
   "cell_type": "code",
   "execution_count": 22,
   "metadata": {},
   "outputs": [
    {
     "name": "stdout",
     "output_type": "stream",
     "text": "https://www.youtube.com/watch?v=LcghTxm-Qno\nhttps://www.youtube.com/watch?v=VlyDN-yQMuk\nhttps://www.youtube.com/watch?v=BnBTFaHvI6I\nhttps://www.youtube.com/watch?v=p2Ijw4euF40\nhttps://www.youtube.com/watch?v=aZ5PYjC61Zk\nhttps://www.youtube.com/watch?v=Qmu4ygwS2SI\nhttps://www.youtube.com/watch?v=wardyOl-EHo\nhttps://www.youtube.com/watch?v=gk0kk1Ly-m0\nhttps://www.youtube.com/watch?v=eCdjlFwZV0g\nhttps://www.youtube.com/watch?v=dSixETgnQuA\nhttps://www.youtube.com/watch?v=atFo0JEblzo\nhttps://www.youtube.com/watch?v=g5ik2MxVo-Y\nhttps://www.youtube.com/watch?v=qkfs46zsmzs\nhttps://www.youtube.com/watch?v=h7DgSo9LiGA\nhttps://www.youtube.com/watch?v=y2XqiCeYOBs\nhttps://www.youtube.com/watch?v=qVTUEBODhZ0\nhttps://www.youtube.com/watch?v=Yyu26I3qW5U\n"
    }
   ],
   "source": [
    "with open(\"source.json\", \"r\") as source:\n",
    "    videos = json.load(source)\n",
    "    for video in videos:\n",
    "        driver.find_element_by_id(\"input\").send_keys(video['url'])\n",
    "        driver.find_element_by_id(\"submit\").click()\n",
    "        time.sleep(5)\n",
    "        driver.find_element_by_xpath(\"/html/body/div[@id='content']/div[@id='converter_wrapper']/div[@id='converter']/div[@id='buttons']/a[1]\").click()\n",
    "        \n",
    "        while (len(driver.window_handles) > 1):\n",
    "            driver.switch_to.window(driver.window_handles[1])\n",
    "            driver.close\n",
    "        \n",
    "        driver.refresh()"
   ]
  },
  {
   "cell_type": "code",
   "execution_count": 18,
   "metadata": {},
   "outputs": [],
   "source": [
    "youtubeLink = \"https://www.youtube.com/watch?v=LcghTxm-Qno\""
   ]
  },
  {
   "cell_type": "code",
   "execution_count": 19,
   "metadata": {},
   "outputs": [],
   "source": [
    "driver.find_element_by_id(\"input\").send_keys(youtubeLink)"
   ]
  },
  {
   "cell_type": "code",
   "execution_count": 20,
   "metadata": {},
   "outputs": [],
   "source": [
    "driver.find_element_by_id(\"submit\").click()\n",
    "time.sleep(5)"
   ]
  },
  {
   "cell_type": "code",
   "execution_count": 8,
   "metadata": {},
   "outputs": [],
   "source": [
    "driver.find_element_by_xpath(\"/html/body/div[@id='content']/div[@id='converter_wrapper']/div[@id='converter']/div[@id='buttons']/a[1]\").click()"
   ]
  },
  {
   "cell_type": "code",
   "execution_count": 12,
   "metadata": {},
   "outputs": [],
   "source": [
    "while (len(driver.window_handles) > 1):\n",
    "    driver.switch_to.window(driver.window_handles[1])\n",
    "    driver.close"
   ]
  },
  {
   "cell_type": "code",
   "execution_count": 21,
   "metadata": {},
   "outputs": [],
   "source": [
    "driver.refresh()"
   ]
  },
  {
   "cell_type": "code",
   "execution_count": 13,
   "metadata": {},
   "outputs": [],
   "source": [
    "driver.quit()"
   ]
  },
  {
   "cell_type": "code",
   "execution_count": null,
   "metadata": {},
   "outputs": [],
   "source": []
  }
 ]
}